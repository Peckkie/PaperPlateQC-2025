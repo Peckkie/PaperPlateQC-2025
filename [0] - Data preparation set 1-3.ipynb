{
 "cells": [
  {
   "cell_type": "markdown",
   "id": "77f7ae82",
   "metadata": {},
   "source": [
    "\n",
    "dataset path => \"/media/HDD/PaperPlateQC-Dataset\"\n"
   ]
  },
  {
   "cell_type": "code",
   "execution_count": 1,
   "id": "73511251",
   "metadata": {},
   "outputs": [],
   "source": [
    "import os\n",
    "import glob\n",
    "import pandas as pd \n",
    "import numpy as np\n",
    "import json\n",
    "import ast"
   ]
  },
  {
   "cell_type": "code",
   "execution_count": 2,
   "id": "6d05e03b",
   "metadata": {},
   "outputs": [],
   "source": [
    "def images_table(file):\n",
    "    f = file\n",
    "    images_table = []\n",
    "    for i in range(len(f[\"images\"])):\n",
    "        id_ = f[\"images\"][i]['id']\n",
    "        width = f[\"images\"][i]['width']\n",
    "        height = f[\"images\"][i]['height']\n",
    "        file_name = f[\"images\"][i]['file_name']\n",
    "        images_table.append({\"image_id\": id_,\"width\": width,\"height\": height, \"file_name\": file_name})\n",
    "    return images_table\n",
    "\n",
    "def annotations_table(file):\n",
    "    f = file\n",
    "    annotations_table = []\n",
    "    for i in range(len(f[\"annotations\"])):\n",
    "        image_id = f[\"annotations\"][i]['image_id']\n",
    "        area = f[\"annotations\"][i]['area']\n",
    "        bbox = f[\"annotations\"][i]['bbox']\n",
    "        annotations_table.append({\"image_id\": image_id,\"area\": area, \"bbox\": bbox})\n",
    "    return annotations_table"
   ]
  },
  {
   "cell_type": "markdown",
   "id": "d2e88b78",
   "metadata": {},
   "source": [
    "# 🍁 Open and Manage .json annotation file\n",
    "\n",
    "> /media/HDD/PaperPlateQC-Dataset/Factory-plate-data/Json/"
   ]
  },
  {
   "cell_type": "code",
   "execution_count": null,
   "id": "5da39bd5",
   "metadata": {},
   "outputs": [],
   "source": [
    "import os  \n",
    "os.chdir('/media/HDD/PaperPlateQC-Dataset/Factory-plate-data/Json/')  \n",
    "!ls"
   ]
  },
  {
   "cell_type": "code",
   "execution_count": null,
   "id": "5604946e",
   "metadata": {},
   "outputs": [],
   "source": [
    "file = open('./instances_Train1.json')\n",
    "file = json.loads(file.read())\n",
    "\n",
    "images_table_ = pd.DataFrame(images_table(file))\n",
    "annotations_table_ = pd.DataFrame(annotations_table(file))\n",
    "result1 = pd.merge(images_table_, annotations_table_, on=\"image_id\")\n",
    "result1['Split'] = 'Train'\n",
    "result1['set'] = 'set1'\n",
    "print(result1.shape)\n",
    "result1.head()"
   ]
  },
  {
   "cell_type": "code",
   "execution_count": null,
   "id": "36ad6997",
   "metadata": {},
   "outputs": [],
   "source": [
    "file = open('./instances_Train2.json')\n",
    "file = json.loads(file.read())\n",
    "\n",
    "images_table_ = pd.DataFrame(images_table(file))\n",
    "annotations_table_ = pd.DataFrame(annotations_table(file))\n",
    "result2 = pd.merge(images_table_, annotations_table_, on=\"image_id\")\n",
    "result2['Split'] = 'Train'\n",
    "result2['set'] = 'set2'\n",
    "print(result2.shape)\n",
    "result2.head()"
   ]
  },
  {
   "cell_type": "code",
   "execution_count": null,
   "id": "1d9637c3",
   "metadata": {},
   "outputs": [],
   "source": [
    "file = open('./instances_Test3.json')\n",
    "file = json.loads(file.read())\n",
    "\n",
    "images_table_ = pd.DataFrame(images_table(file))\n",
    "annotations_table_ = pd.DataFrame(annotations_table(file))\n",
    "result3 = pd.merge(images_table_, annotations_table_, on=\"image_id\")\n",
    "result3['Split'] = 'Test'\n",
    "result3['set'] = 'set3'\n",
    "print(result3.shape)\n",
    "result3.head()"
   ]
  },
  {
   "cell_type": "code",
   "execution_count": null,
   "id": "b1ee4395",
   "metadata": {},
   "outputs": [],
   "source": [
    "result = result1.append(result2)\n",
    "result = result.append(result3)\n",
    "print(result.shape)\n",
    "result.head()"
   ]
  },
  {
   "cell_type": "code",
   "execution_count": null,
   "id": "cc30dc05",
   "metadata": {},
   "outputs": [],
   "source": [
    "list(result['bbox'])[1]"
   ]
  },
  {
   "cell_type": "code",
   "execution_count": null,
   "id": "f50dddd2",
   "metadata": {},
   "outputs": [],
   "source": [
    "xmin_, ymin_, xmax_, ymax_ = [], [], [], []\n",
    "\n",
    "for j in range(len(result)):\n",
    "    bbox = list(result['bbox'])[j] \n",
    "    ymin = bbox[1]\n",
    "    ymax = bbox[1] + bbox[3]\n",
    "    xmin = bbox[0]\n",
    "    xmax = bbox[0] + bbox[2]\n",
    "    xmin_.append(xmin)\n",
    "    ymin_.append(ymin)\n",
    "    xmax_.append(xmax)\n",
    "    ymax_.append(ymax)\n",
    "    \n",
    "result['xmin'] = xmin_\n",
    "result['ymin'] = ymin_\n",
    "result['xmax'] = xmax_\n",
    "result['ymax'] = ymax_"
   ]
  },
  {
   "cell_type": "code",
   "execution_count": null,
   "id": "c2509143",
   "metadata": {},
   "outputs": [],
   "source": [
    "print(result.shape)\n",
    "result.head()"
   ]
  },
  {
   "cell_type": "code",
   "execution_count": null,
   "id": "a7f26e65",
   "metadata": {},
   "outputs": [],
   "source": [
    "result.groupby(['set'])['file_name'].count().reset_index()"
   ]
  },
  {
   "cell_type": "code",
   "execution_count": null,
   "id": "bf741d26",
   "metadata": {},
   "outputs": [],
   "source": [
    "result.groupby(['Split'])['file_name'].count().reset_index()"
   ]
  },
  {
   "cell_type": "markdown",
   "id": "0701ee66",
   "metadata": {},
   "source": [
    "# 🍁 Manage images path\n",
    "\n",
    "\n",
    "> /media/HDD/PaperPlateQC-Dataset/Factory-plate-data/Images"
   ]
  },
  {
   "cell_type": "code",
   "execution_count": null,
   "id": "a7a41157",
   "metadata": {},
   "outputs": [],
   "source": [
    "import os  \n",
    "os.chdir('/media/HDD/PaperPlateQC-Dataset/Factory-plate-data/Images/')  \n",
    "!ls"
   ]
  },
  {
   "cell_type": "code",
   "execution_count": null,
   "id": "e4a3f3b2",
   "metadata": {},
   "outputs": [],
   "source": [
    "path = '/media/HDD/PaperPlateQC-Dataset/Factory-plate-data/Images/'\n",
    "file_name = result['file_name'].tolist()\n",
    "set_ = result['set'].tolist()\n",
    "\n",
    "imgs = []\n",
    "for i in range(len(file_name)):\n",
    "    img = f'{path}{set_[i]}/{file_name[i]}'\n",
    "    imgs.append(img)\n",
    "    print(img)\n",
    "    \n",
    "result['img_path'] = imgs"
   ]
  },
  {
   "cell_type": "code",
   "execution_count": null,
   "id": "af431fa7",
   "metadata": {},
   "outputs": [],
   "source": [
    "path_img = result['img_path'].tolist()\n",
    "# os.chdir('/media/HDD/dataset_cctv_plate/data_defect/Defect_13_Feb_25/all_defect_img/')\n",
    "\n",
    "import matplotlib.pyplot as plt  \n",
    "import matplotlib.image as mpimg  \n",
    "import os  \n",
    "import random  \n",
    "\n",
    "# Randomly select a few images  \n",
    "selected_imgs = random.sample(path_img, 9)  \n",
    "\n",
    "\n",
    "# Create a figure with nine subplots  \n",
    "fig, ax = plt.subplots(3, 3, figsize=(15, 15))  \n",
    "\n",
    "# Display images on the subplots  \n",
    "for i, img in enumerate(selected_imgs):  \n",
    "    img_data = mpimg.imread(img)  \n",
    "    ax[i // 3, i % 3].imshow(img_data)  \n",
    "    ax[i // 3, i % 3].set_title(os.path.basename(img))  \n",
    "\n",
    "# Layout so plots do not overlap  \n",
    "fig.tight_layout()  \n",
    "\n",
    "# Show the plot  \n",
    "plt.show()"
   ]
  },
  {
   "cell_type": "code",
   "execution_count": null,
   "id": "cdabb855",
   "metadata": {},
   "outputs": [],
   "source": [
    "selected_imgs"
   ]
  },
  {
   "cell_type": "code",
   "execution_count": null,
   "id": "2b4354fe",
   "metadata": {},
   "outputs": [],
   "source": [
    "import pandas as pd  \n",
    "import matplotlib.pyplot as plt  \n",
    "\n",
    "f = 6\n",
    "\n",
    "# Define the image path for plotting  \n",
    "image_path = selected_imgs[f]  # Update with your image path  \n",
    "tb = result[result['img_path'] == image_path]  \n",
    "\n",
    "# Load the image  \n",
    "img = plt.imread(image_path)  \n",
    "\n",
    "# Plotting the image  \n",
    "plt.figure(figsize=(10, 10))  \n",
    "plt.imshow(img)  \n",
    "\n",
    "# Iterate over bounding boxes  \n",
    "for index in range(len(tb)):  \n",
    "    bbox = tb['bbox'].iloc[index]  # Directly access the list  \n",
    "    xmin = bbox[0]  \n",
    "    ymin = bbox[1]  \n",
    "    width = bbox[2]  \n",
    "    height = bbox[3]  \n",
    "    \n",
    "    # Calculate the maximum x and y coordinates  \n",
    "    xmax = xmin + width  \n",
    "    ymax = ymin + height  \n",
    "\n",
    "    # Draw the rectangle  \n",
    "    plt.gca().add_patch(plt.Rectangle((xmin, ymin), width, height,  \n",
    "                                       edgecolor='red', facecolor='none', linewidth=1))  \n",
    "\n",
    "plt.title('Image with Bounding Boxes')  \n",
    "plt.axis('off')  # Hide the axis  \n",
    "plt.show()  "
   ]
  },
  {
   "cell_type": "code",
   "execution_count": null,
   "id": "5af507eb",
   "metadata": {},
   "outputs": [],
   "source": [
    "# height,width,_ =  img.shape\n",
    "# print(height,width)\n",
    "\n",
    "# result['height'] = height\n",
    "# result['width'] = width"
   ]
  },
  {
   "cell_type": "code",
   "execution_count": null,
   "id": "2d684e72",
   "metadata": {},
   "outputs": [],
   "source": [
    "result.to_csv('/media/HDD/PaperPlateQC-Dataset/Factory-plate-data/CSV/Annotation_boxes_Factory_plate_set1-3.csv')"
   ]
  },
  {
   "cell_type": "code",
   "execution_count": null,
   "id": "c5fa136f",
   "metadata": {},
   "outputs": [],
   "source": []
  }
 ],
 "metadata": {
  "kernelspec": {
   "display_name": "usai2",
   "language": "python",
   "name": "usai2"
  },
  "language_info": {
   "codemirror_mode": {
    "name": "ipython",
    "version": 3
   },
   "file_extension": ".py",
   "mimetype": "text/x-python",
   "name": "python",
   "nbconvert_exporter": "python",
   "pygments_lexer": "ipython3",
   "version": "3.6.9"
  }
 },
 "nbformat": 4,
 "nbformat_minor": 5
}
